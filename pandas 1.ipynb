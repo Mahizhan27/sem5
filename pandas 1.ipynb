{
 "cells": [
  {
   "cell_type": "code",
   "execution_count": 9,
   "id": "e8eed9cd",
   "metadata": {},
   "outputs": [],
   "source": [
    "import pandas as pd"
   ]
  },
  {
   "cell_type": "code",
   "execution_count": 10,
   "id": "3ad9fc1a",
   "metadata": {},
   "outputs": [
    {
     "data": {
      "text/plain": [
       "'2.2.2'"
      ]
     },
     "execution_count": 10,
     "metadata": {},
     "output_type": "execute_result"
    }
   ],
   "source": [
    "pd.__version__"
   ]
  },
  {
   "cell_type": "code",
   "execution_count": 11,
   "id": "9e9fc70b",
   "metadata": {},
   "outputs": [],
   "source": [
    "s1=pd.Series(['mahi',19,\"27_7_2005\",'b.tech cse','2024'],index=['name','age','DOB','STD','year'])"
   ]
  },
  {
   "cell_type": "code",
   "execution_count": 12,
   "id": "e066077a",
   "metadata": {},
   "outputs": [
    {
     "name": "stdout",
     "output_type": "stream",
     "text": [
      "name          mahi\n",
      "age             19\n",
      "DOB      27_7_2005\n",
      "STD     b.tech cse\n",
      "year          2024\n",
      "dtype: object\n"
     ]
    }
   ],
   "source": [
    "print(s1)"
   ]
  },
  {
   "cell_type": "code",
   "execution_count": 22,
   "id": "faa3680e",
   "metadata": {},
   "outputs": [],
   "source": [
    "s2=pd.Series(['afsal',20,\"2_2_2004\",'b.tech cse','2024'],index=['name','age','DOB','STD','year'])"
   ]
  },
  {
   "cell_type": "code",
   "execution_count": 23,
   "id": "f49b09a7",
   "metadata": {},
   "outputs": [
    {
     "name": "stdout",
     "output_type": "stream",
     "text": [
      "name         afsal\n",
      "age             20\n",
      "DOB       2_2_2004\n",
      "STD     b.tech cse\n",
      "year          2024\n",
      "dtype: object\n"
     ]
    }
   ],
   "source": [
    "print(s2)"
   ]
  },
  {
   "cell_type": "code",
   "execution_count": 24,
   "id": "ea630f34",
   "metadata": {},
   "outputs": [],
   "source": [
    "s3=pd.Series(['praveen','21','18-1-2003','b.tech cse','2023'], index=['name','age','DOB','STD','year'])"
   ]
  },
  {
   "cell_type": "code",
   "execution_count": 25,
   "id": "48876e56",
   "metadata": {},
   "outputs": [
    {
     "name": "stdout",
     "output_type": "stream",
     "text": [
      "name       praveen\n",
      "age             21\n",
      "DOB      18-1-2003\n",
      "STD     b.tech cse\n",
      "year          2023\n",
      "dtype: object\n"
     ]
    }
   ],
   "source": [
    "print(s3)"
   ]
  },
  {
   "cell_type": "code",
   "execution_count": 26,
   "id": "ba337506",
   "metadata": {},
   "outputs": [],
   "source": [
    "df1=pd.DataFrame(s2,columns=[\"details\"])"
   ]
  },
  {
   "cell_type": "code",
   "execution_count": 27,
   "id": "9ced3732",
   "metadata": {},
   "outputs": [
    {
     "data": {
      "text/html": [
       "<div>\n",
       "<style scoped>\n",
       "    .dataframe tbody tr th:only-of-type {\n",
       "        vertical-align: middle;\n",
       "    }\n",
       "\n",
       "    .dataframe tbody tr th {\n",
       "        vertical-align: top;\n",
       "    }\n",
       "\n",
       "    .dataframe thead th {\n",
       "        text-align: right;\n",
       "    }\n",
       "</style>\n",
       "<table border=\"1\" class=\"dataframe\">\n",
       "  <thead>\n",
       "    <tr style=\"text-align: right;\">\n",
       "      <th></th>\n",
       "      <th>details</th>\n",
       "    </tr>\n",
       "  </thead>\n",
       "  <tbody>\n",
       "    <tr>\n",
       "      <th>name</th>\n",
       "      <td>afsal</td>\n",
       "    </tr>\n",
       "    <tr>\n",
       "      <th>age</th>\n",
       "      <td>20</td>\n",
       "    </tr>\n",
       "    <tr>\n",
       "      <th>DOB</th>\n",
       "      <td>2_2_2004</td>\n",
       "    </tr>\n",
       "    <tr>\n",
       "      <th>STD</th>\n",
       "      <td>b.tech cse</td>\n",
       "    </tr>\n",
       "    <tr>\n",
       "      <th>year</th>\n",
       "      <td>2024</td>\n",
       "    </tr>\n",
       "  </tbody>\n",
       "</table>\n",
       "</div>"
      ],
      "text/plain": [
       "         details\n",
       "name       afsal\n",
       "age           20\n",
       "DOB     2_2_2004\n",
       "STD   b.tech cse\n",
       "year        2024"
      ]
     },
     "execution_count": 27,
     "metadata": {},
     "output_type": "execute_result"
    }
   ],
   "source": [
    "df1"
   ]
  },
  {
   "cell_type": "code",
   "execution_count": 28,
   "id": "55866b6f",
   "metadata": {},
   "outputs": [],
   "source": [
    "df1[\"data\"]=s3"
   ]
  },
  {
   "cell_type": "code",
   "execution_count": 29,
   "id": "e6f94941",
   "metadata": {},
   "outputs": [
    {
     "data": {
      "text/html": [
       "<div>\n",
       "<style scoped>\n",
       "    .dataframe tbody tr th:only-of-type {\n",
       "        vertical-align: middle;\n",
       "    }\n",
       "\n",
       "    .dataframe tbody tr th {\n",
       "        vertical-align: top;\n",
       "    }\n",
       "\n",
       "    .dataframe thead th {\n",
       "        text-align: right;\n",
       "    }\n",
       "</style>\n",
       "<table border=\"1\" class=\"dataframe\">\n",
       "  <thead>\n",
       "    <tr style=\"text-align: right;\">\n",
       "      <th></th>\n",
       "      <th>details</th>\n",
       "      <th>data</th>\n",
       "    </tr>\n",
       "  </thead>\n",
       "  <tbody>\n",
       "    <tr>\n",
       "      <th>name</th>\n",
       "      <td>afsal</td>\n",
       "      <td>praveen</td>\n",
       "    </tr>\n",
       "    <tr>\n",
       "      <th>age</th>\n",
       "      <td>20</td>\n",
       "      <td>21</td>\n",
       "    </tr>\n",
       "    <tr>\n",
       "      <th>DOB</th>\n",
       "      <td>2_2_2004</td>\n",
       "      <td>18-1-2003</td>\n",
       "    </tr>\n",
       "    <tr>\n",
       "      <th>STD</th>\n",
       "      <td>b.tech cse</td>\n",
       "      <td>b.tech cse</td>\n",
       "    </tr>\n",
       "    <tr>\n",
       "      <th>year</th>\n",
       "      <td>2024</td>\n",
       "      <td>2023</td>\n",
       "    </tr>\n",
       "  </tbody>\n",
       "</table>\n",
       "</div>"
      ],
      "text/plain": [
       "         details        data\n",
       "name       afsal     praveen\n",
       "age           20          21\n",
       "DOB     2_2_2004   18-1-2003\n",
       "STD   b.tech cse  b.tech cse\n",
       "year        2024        2023"
      ]
     },
     "execution_count": 29,
     "metadata": {},
     "output_type": "execute_result"
    }
   ],
   "source": [
    "df1"
   ]
  },
  {
   "cell_type": "code",
   "execution_count": 30,
   "id": "4a2a2e3d",
   "metadata": {},
   "outputs": [],
   "source": [
    "automobiles={\"car\":{1:\"civic\",2:\"city\",3:\"swift\",4:\"dezire\",5:\"creata\"},\"bike\":{1:\"duke\",2:\"vespa\",3:\"xpulse\",4:\"himalaian\",5:\"parak\"}}"
   ]
  },
  {
   "cell_type": "code",
   "execution_count": 31,
   "id": "e41a4667",
   "metadata": {},
   "outputs": [],
   "source": [
    "df2=pd.DataFrame(automobiles,columns=[\"car\",\"bike\"])"
   ]
  },
  {
   "cell_type": "code",
   "execution_count": 32,
   "id": "246fd0c0",
   "metadata": {},
   "outputs": [
    {
     "data": {
      "text/html": [
       "<div>\n",
       "<style scoped>\n",
       "    .dataframe tbody tr th:only-of-type {\n",
       "        vertical-align: middle;\n",
       "    }\n",
       "\n",
       "    .dataframe tbody tr th {\n",
       "        vertical-align: top;\n",
       "    }\n",
       "\n",
       "    .dataframe thead th {\n",
       "        text-align: right;\n",
       "    }\n",
       "</style>\n",
       "<table border=\"1\" class=\"dataframe\">\n",
       "  <thead>\n",
       "    <tr style=\"text-align: right;\">\n",
       "      <th></th>\n",
       "      <th>car</th>\n",
       "      <th>bike</th>\n",
       "    </tr>\n",
       "  </thead>\n",
       "  <tbody>\n",
       "    <tr>\n",
       "      <th>1</th>\n",
       "      <td>civic</td>\n",
       "      <td>duke</td>\n",
       "    </tr>\n",
       "    <tr>\n",
       "      <th>2</th>\n",
       "      <td>city</td>\n",
       "      <td>vespa</td>\n",
       "    </tr>\n",
       "    <tr>\n",
       "      <th>3</th>\n",
       "      <td>swift</td>\n",
       "      <td>xpulse</td>\n",
       "    </tr>\n",
       "    <tr>\n",
       "      <th>4</th>\n",
       "      <td>dezire</td>\n",
       "      <td>himalaian</td>\n",
       "    </tr>\n",
       "    <tr>\n",
       "      <th>5</th>\n",
       "      <td>creata</td>\n",
       "      <td>parak</td>\n",
       "    </tr>\n",
       "  </tbody>\n",
       "</table>\n",
       "</div>"
      ],
      "text/plain": [
       "      car       bike\n",
       "1   civic       duke\n",
       "2    city      vespa\n",
       "3   swift     xpulse\n",
       "4  dezire  himalaian\n",
       "5  creata      parak"
      ]
     },
     "execution_count": 32,
     "metadata": {},
     "output_type": "execute_result"
    }
   ],
   "source": [
    "df2"
   ]
  },
  {
   "cell_type": "code",
   "execution_count": 33,
   "id": "96d2e40d",
   "metadata": {},
   "outputs": [],
   "source": [
    "details={\"student1\":{'name':'varun','reg no':'457','year of stu':'second year'},\"student2\":{'name':'arun','reg no':'458','year of stu':'second year'},\"student3\":{'name':'hari','reg no':'459','year of stu':'second year'},\"student4\":{'name':'afsal','reg no':'450','year of stu':'second year'},\"student5\":{'name':'guru','reg no':'451','year of stu':'second year'}}"
   ]
  },
  {
   "cell_type": "code",
   "execution_count": 34,
   "id": "8741a9db",
   "metadata": {},
   "outputs": [],
   "source": [
    "df3=pd.DataFrame(details,columns=[\"student1\",\"student2\",\"student3\",\"student4\",\"student5\"])"
   ]
  },
  {
   "cell_type": "code",
   "execution_count": 35,
   "id": "ca562dcf",
   "metadata": {},
   "outputs": [
    {
     "data": {
      "text/html": [
       "<div>\n",
       "<style scoped>\n",
       "    .dataframe tbody tr th:only-of-type {\n",
       "        vertical-align: middle;\n",
       "    }\n",
       "\n",
       "    .dataframe tbody tr th {\n",
       "        vertical-align: top;\n",
       "    }\n",
       "\n",
       "    .dataframe thead th {\n",
       "        text-align: right;\n",
       "    }\n",
       "</style>\n",
       "<table border=\"1\" class=\"dataframe\">\n",
       "  <thead>\n",
       "    <tr style=\"text-align: right;\">\n",
       "      <th></th>\n",
       "      <th>student1</th>\n",
       "      <th>student2</th>\n",
       "      <th>student3</th>\n",
       "      <th>student4</th>\n",
       "      <th>student5</th>\n",
       "    </tr>\n",
       "  </thead>\n",
       "  <tbody>\n",
       "    <tr>\n",
       "      <th>name</th>\n",
       "      <td>varun</td>\n",
       "      <td>arun</td>\n",
       "      <td>hari</td>\n",
       "      <td>afsal</td>\n",
       "      <td>guru</td>\n",
       "    </tr>\n",
       "    <tr>\n",
       "      <th>reg no</th>\n",
       "      <td>457</td>\n",
       "      <td>458</td>\n",
       "      <td>459</td>\n",
       "      <td>450</td>\n",
       "      <td>451</td>\n",
       "    </tr>\n",
       "    <tr>\n",
       "      <th>year of stu</th>\n",
       "      <td>second year</td>\n",
       "      <td>second year</td>\n",
       "      <td>second year</td>\n",
       "      <td>second year</td>\n",
       "      <td>second year</td>\n",
       "    </tr>\n",
       "  </tbody>\n",
       "</table>\n",
       "</div>"
      ],
      "text/plain": [
       "                student1     student2     student3     student4     student5\n",
       "name               varun         arun         hari        afsal         guru\n",
       "reg no               457          458          459          450          451\n",
       "year of stu  second year  second year  second year  second year  second year"
      ]
     },
     "execution_count": 35,
     "metadata": {},
     "output_type": "execute_result"
    }
   ],
   "source": [
    "df3"
   ]
  },
  {
   "cell_type": "code",
   "execution_count": 36,
   "id": "df481724",
   "metadata": {},
   "outputs": [],
   "source": [
    "car=df2[\"car\"]"
   ]
  },
  {
   "cell_type": "code",
   "execution_count": 37,
   "id": "2d9e50a4",
   "metadata": {},
   "outputs": [
    {
     "data": {
      "text/plain": [
       "1     civic\n",
       "2      city\n",
       "3     swift\n",
       "4    dezire\n",
       "5    creata\n",
       "Name: car, dtype: object"
      ]
     },
     "execution_count": 37,
     "metadata": {},
     "output_type": "execute_result"
    }
   ],
   "source": [
    "car"
   ]
  },
  {
   "cell_type": "code",
   "execution_count": 38,
   "id": "b3e806dd",
   "metadata": {},
   "outputs": [
    {
     "data": {
      "text/html": [
       "<div>\n",
       "<style scoped>\n",
       "    .dataframe tbody tr th:only-of-type {\n",
       "        vertical-align: middle;\n",
       "    }\n",
       "\n",
       "    .dataframe tbody tr th {\n",
       "        vertical-align: top;\n",
       "    }\n",
       "\n",
       "    .dataframe thead th {\n",
       "        text-align: right;\n",
       "    }\n",
       "</style>\n",
       "<table border=\"1\" class=\"dataframe\">\n",
       "  <thead>\n",
       "    <tr style=\"text-align: right;\">\n",
       "      <th></th>\n",
       "      <th>bike</th>\n",
       "    </tr>\n",
       "  </thead>\n",
       "  <tbody>\n",
       "    <tr>\n",
       "      <th>1</th>\n",
       "      <td>duke</td>\n",
       "    </tr>\n",
       "    <tr>\n",
       "      <th>2</th>\n",
       "      <td>vespa</td>\n",
       "    </tr>\n",
       "    <tr>\n",
       "      <th>3</th>\n",
       "      <td>xpulse</td>\n",
       "    </tr>\n",
       "    <tr>\n",
       "      <th>4</th>\n",
       "      <td>himalaian</td>\n",
       "    </tr>\n",
       "    <tr>\n",
       "      <th>5</th>\n",
       "      <td>parak</td>\n",
       "    </tr>\n",
       "  </tbody>\n",
       "</table>\n",
       "</div>"
      ],
      "text/plain": [
       "        bike\n",
       "1       duke\n",
       "2      vespa\n",
       "3     xpulse\n",
       "4  himalaian\n",
       "5      parak"
      ]
     },
     "execution_count": 38,
     "metadata": {},
     "output_type": "execute_result"
    }
   ],
   "source": [
    "df2.drop(\"car\",axis=1)"
   ]
  },
  {
   "cell_type": "code",
   "execution_count": null,
   "id": "504710cb",
   "metadata": {},
   "outputs": [],
   "source": []
  }
 ],
 "metadata": {
  "kernelspec": {
   "display_name": "Python 3 (ipykernel)",
   "language": "python",
   "name": "python3"
  },
  "language_info": {
   "codemirror_mode": {
    "name": "ipython",
    "version": 3
   },
   "file_extension": ".py",
   "mimetype": "text/x-python",
   "name": "python",
   "nbconvert_exporter": "python",
   "pygments_lexer": "ipython3",
   "version": "3.9.7"
  }
 },
 "nbformat": 4,
 "nbformat_minor": 5
}
