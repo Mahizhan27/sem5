{
 "cells": [
  {
   "cell_type": "code",
   "execution_count": 1,
   "id": "339d42d7",
   "metadata": {},
   "outputs": [],
   "source": [
    "import numpy as np"
   ]
  },
  {
   "cell_type": "code",
   "execution_count": 2,
   "id": "d5773e23",
   "metadata": {},
   "outputs": [],
   "source": [
    "ar1=np.array(27)"
   ]
  },
  {
   "cell_type": "code",
   "execution_count": 3,
   "id": "5b343827",
   "metadata": {},
   "outputs": [
    {
     "data": {
      "text/plain": [
       "array(27)"
      ]
     },
     "execution_count": 3,
     "metadata": {},
     "output_type": "execute_result"
    }
   ],
   "source": [
    "ar1"
   ]
  },
  {
   "cell_type": "code",
   "execution_count": 4,
   "id": "470e2f2e",
   "metadata": {},
   "outputs": [
    {
     "data": {
      "text/plain": [
       "numpy.ndarray"
      ]
     },
     "execution_count": 4,
     "metadata": {},
     "output_type": "execute_result"
    }
   ],
   "source": [
    "type(ar1)"
   ]
  },
  {
   "cell_type": "code",
   "execution_count": 5,
   "id": "782555d1",
   "metadata": {},
   "outputs": [],
   "source": [
    "ar2=np.array([[2,3,4],[1,0,1]])"
   ]
  },
  {
   "cell_type": "code",
   "execution_count": 6,
   "id": "49218da5",
   "metadata": {},
   "outputs": [
    {
     "data": {
      "text/plain": [
       "array([[2, 3, 4],\n",
       "       [1, 0, 1]])"
      ]
     },
     "execution_count": 6,
     "metadata": {},
     "output_type": "execute_result"
    }
   ],
   "source": [
    "ar2"
   ]
  },
  {
   "cell_type": "code",
   "execution_count": 7,
   "id": "6b33c33a",
   "metadata": {},
   "outputs": [
    {
     "data": {
      "text/plain": [
       "array([[0., 0., 0., 0., 0.],\n",
       "       [0., 0., 0., 0., 0.],\n",
       "       [0., 0., 0., 0., 0.],\n",
       "       [0., 0., 0., 0., 0.],\n",
       "       [0., 0., 0., 0., 0.],\n",
       "       [0., 0., 0., 0., 0.]])"
      ]
     },
     "execution_count": 7,
     "metadata": {},
     "output_type": "execute_result"
    }
   ],
   "source": [
    "zero_array=np.zeros([6,5])\n",
    "zero_array"
   ]
  },
  {
   "cell_type": "code",
   "execution_count": 8,
   "id": "5adf669d",
   "metadata": {},
   "outputs": [
    {
     "data": {
      "text/plain": [
       "array([2, 4, 6, 8])"
      ]
     },
     "execution_count": 8,
     "metadata": {},
     "output_type": "execute_result"
    }
   ],
   "source": [
    "ar3=np.arange(2,9,2)\n",
    "ar3"
   ]
  },
  {
   "cell_type": "code",
   "execution_count": 9,
   "id": "e5798462",
   "metadata": {},
   "outputs": [
    {
     "data": {
      "text/plain": [
       "array([2, 4, 6, 8])"
      ]
     },
     "execution_count": 9,
     "metadata": {},
     "output_type": "execute_result"
    }
   ],
   "source": [
    "ar5=np.transpose(ar3)\n",
    "ar5"
   ]
  },
  {
   "cell_type": "code",
   "execution_count": 10,
   "id": "a89fd564",
   "metadata": {},
   "outputs": [
    {
     "data": {
      "text/plain": [
       "array([2, 4, 6, 8])"
      ]
     },
     "execution_count": 10,
     "metadata": {},
     "output_type": "execute_result"
    }
   ],
   "source": [
    "ar6=np.transpose(ar5)\n",
    "ar6"
   ]
  },
  {
   "cell_type": "code",
   "execution_count": 11,
   "id": "e4ba16c1",
   "metadata": {},
   "outputs": [
    {
     "data": {
      "text/plain": [
       "array([1, 2])"
      ]
     },
     "execution_count": 11,
     "metadata": {},
     "output_type": "execute_result"
    }
   ],
   "source": [
    "a1=np.array([1,2])\n",
    "a2=np.array([4,5])\n",
    "a1"
   ]
  },
  {
   "cell_type": "code",
   "execution_count": 16,
   "id": "79bc5a6d",
   "metadata": {},
   "outputs": [
    {
     "data": {
      "text/plain": [
       "array([4, 5])"
      ]
     },
     "execution_count": 16,
     "metadata": {},
     "output_type": "execute_result"
    }
   ],
   "source": [
    "a2"
   ]
  },
  {
   "cell_type": "code",
   "execution_count": 22,
   "id": "c1e04321",
   "metadata": {},
   "outputs": [
    {
     "data": {
      "text/plain": [
       "array([1, 2, 4, 5])"
      ]
     },
     "execution_count": 22,
     "metadata": {},
     "output_type": "execute_result"
    }
   ],
   "source": [
    "concat=np.concatenate((a1,a2))\n",
    "concat"
   ]
  },
  {
   "cell_type": "code",
   "execution_count": 23,
   "id": "c4c00328",
   "metadata": {},
   "outputs": [],
   "source": [
    "hori=np.vstack((a1,a2))\n"
   ]
  },
  {
   "cell_type": "code",
   "execution_count": 24,
   "id": "fc710ba8",
   "metadata": {},
   "outputs": [
    {
     "data": {
      "text/plain": [
       "array([[1, 2],\n",
       "       [4, 5]])"
      ]
     },
     "execution_count": 24,
     "metadata": {},
     "output_type": "execute_result"
    }
   ],
   "source": [
    "hori"
   ]
  },
  {
   "cell_type": "code",
   "execution_count": 41,
   "id": "bea896d3",
   "metadata": {},
   "outputs": [],
   "source": [
    "mat1=np.array([1,2,3])\n",
    "mat2=np.array([4,5,6])"
   ]
  },
  {
   "cell_type": "code",
   "execution_count": 44,
   "id": "c8797404",
   "metadata": {},
   "outputs": [],
   "source": [
    "hori=np.vstack((mat1,mat2))\n"
   ]
  },
  {
   "cell_type": "raw",
   "id": "6842ecd2",
   "metadata": {},
   "source": [
    "hori"
   ]
  },
  {
   "cell_type": "code",
   "execution_count": 45,
   "id": "e0f2c57d",
   "metadata": {},
   "outputs": [],
   "source": [
    "mat3=np.array  ([[1,2,3,4],[3,4,5,6],[4,5,6,7],[6,7,6,8]])"
   ]
  },
  {
   "cell_type": "code",
   "execution_count": 46,
   "id": "ac3f56a2",
   "metadata": {
    "scrolled": true
   },
   "outputs": [
    {
     "name": "stdout",
     "output_type": "stream",
     "text": [
      "[[1 2 3 4]\n",
      " [3 4 5 6]\n",
      " [4 5 6 7]\n",
      " [6 7 6 8]]\n"
     ]
    }
   ],
   "source": [
    "print(mat3)"
   ]
  },
  {
   "cell_type": "code",
   "execution_count": 49,
   "id": "d6911a6f",
   "metadata": {},
   "outputs": [],
   "source": [
    "det_of_mat3=np.linalg.det(mat3)"
   ]
  },
  {
   "cell_type": "code",
   "execution_count": 51,
   "id": "27ebd749",
   "metadata": {},
   "outputs": [
    {
     "data": {
      "text/plain": [
       "-2.2204460492501665e-17"
      ]
     },
     "execution_count": 51,
     "metadata": {},
     "output_type": "execute_result"
    }
   ],
   "source": [
    "det_of_mat3"
   ]
  },
  {
   "cell_type": "code",
   "execution_count": 52,
   "id": "3b29226a",
   "metadata": {},
   "outputs": [],
   "source": [
    "inverse=np.linalg.inv(mat3)"
   ]
  },
  {
   "cell_type": "code",
   "execution_count": 53,
   "id": "9fa4b83f",
   "metadata": {},
   "outputs": [
    {
     "data": {
      "text/plain": [
       "array([[ 1.35107989e+17, -4.05323966e+17,  2.70215978e+17,\n",
       "        -5.45000000e+01],\n",
       "       [-1.80143985e+17,  5.40431955e+17, -3.60287970e+17,\n",
       "         7.30000000e+01],\n",
       "       [-4.50359963e+16,  1.35107989e+17, -9.00719925e+16,\n",
       "         1.75000000e+01],\n",
       "       [ 9.00719925e+16, -2.70215978e+17,  1.80143985e+17,\n",
       "        -3.60000000e+01]])"
      ]
     },
     "execution_count": 53,
     "metadata": {},
     "output_type": "execute_result"
    }
   ],
   "source": [
    "inverse"
   ]
  },
  {
   "cell_type": "code",
   "execution_count": 55,
   "id": "ab9b6d2a",
   "metadata": {},
   "outputs": [],
   "source": [
    "dense=np.array([[1,0,5,0],[2,0,0,5],[5,0,0,0],[0,3,0,6]])"
   ]
  },
  {
   "cell_type": "code",
   "execution_count": 56,
   "id": "771a67ed",
   "metadata": {},
   "outputs": [
    {
     "data": {
      "text/plain": [
       "array([[1, 0, 5, 0],\n",
       "       [2, 0, 0, 5],\n",
       "       [5, 0, 0, 0],\n",
       "       [0, 3, 0, 6]])"
      ]
     },
     "execution_count": 56,
     "metadata": {},
     "output_type": "execute_result"
    }
   ],
   "source": [
    "dense"
   ]
  },
  {
   "cell_type": "code",
   "execution_count": 57,
   "id": "25876d72",
   "metadata": {},
   "outputs": [],
   "source": [
    "from scipy .sparse import csr_matrix"
   ]
  },
  {
   "cell_type": "code",
   "execution_count": 58,
   "id": "b4a4f5e1",
   "metadata": {},
   "outputs": [],
   "source": [
    "sparse=csr_matrix(dense)"
   ]
  },
  {
   "cell_type": "code",
   "execution_count": 59,
   "id": "dd0b39b8",
   "metadata": {},
   "outputs": [
    {
     "data": {
      "text/plain": [
       "<4x4 sparse matrix of type '<class 'numpy.intc'>'\n",
       "\twith 7 stored elements in Compressed Sparse Row format>"
      ]
     },
     "execution_count": 59,
     "metadata": {},
     "output_type": "execute_result"
    }
   ],
   "source": [
    "sparse"
   ]
  },
  {
   "cell_type": "code",
   "execution_count": 60,
   "id": "7fb9ffd3",
   "metadata": {},
   "outputs": [
    {
     "name": "stdout",
     "output_type": "stream",
     "text": [
      "  (0, 0)\t1\n",
      "  (0, 2)\t5\n",
      "  (1, 0)\t2\n",
      "  (1, 3)\t5\n",
      "  (2, 0)\t5\n",
      "  (3, 1)\t3\n",
      "  (3, 3)\t6\n"
     ]
    }
   ],
   "source": [
    "print(sparse)"
   ]
  },
  {
   "cell_type": "code",
   "execution_count": null,
   "id": "b4b111a3",
   "metadata": {},
   "outputs": [],
   "source": []
  },
  {
   "cell_type": "code",
   "execution_count": null,
   "id": "061af602",
   "metadata": {},
   "outputs": [],
   "source": []
  },
  {
   "cell_type": "code",
   "execution_count": null,
   "id": "69fcfb6b",
   "metadata": {},
   "outputs": [],
   "source": []
  },
  {
   "cell_type": "code",
   "execution_count": null,
   "id": "52d8c3bf",
   "metadata": {},
   "outputs": [],
   "source": []
  },
  {
   "cell_type": "code",
   "execution_count": null,
   "id": "90a09179",
   "metadata": {},
   "outputs": [],
   "source": []
  },
  {
   "cell_type": "code",
   "execution_count": null,
   "id": "572bb7b0",
   "metadata": {},
   "outputs": [],
   "source": []
  },
  {
   "cell_type": "code",
   "execution_count": null,
   "id": "25f78d3d",
   "metadata": {},
   "outputs": [],
   "source": []
  }
 ],
 "metadata": {
  "kernelspec": {
   "display_name": "Python 3 (ipykernel)",
   "language": "python",
   "name": "python3"
  },
  "language_info": {
   "codemirror_mode": {
    "name": "ipython",
    "version": 3
   },
   "file_extension": ".py",
   "mimetype": "text/x-python",
   "name": "python",
   "nbconvert_exporter": "python",
   "pygments_lexer": "ipython3",
   "version": "3.9.7"
  }
 },
 "nbformat": 4,
 "nbformat_minor": 5
}
